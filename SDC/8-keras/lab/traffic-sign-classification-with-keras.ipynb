{
 "cells": [
  {
   "cell_type": "markdown",
   "metadata": {},
   "source": [
    "# Traffic Sign Classification with Keras\n",
    "\n",
    "Keras exists to make coding deep neural networks simpler. To demonstrate just how easy it is, you’re going to use Keras to build a convolutional neural network in a few dozen lines of code.\n",
    "\n",
    "You’ll be connecting the concepts from the previous lessons to the methods that Keras provides."
   ]
  },
  {
   "cell_type": "markdown",
   "metadata": {},
   "source": [
    "## Dataset\n",
    "\n",
    "The network you'll build with Keras is similar to the example that you can find in Keras’s GitHub repository that builds out a [convolutional neural network for MNIST](https://github.com/fchollet/keras/blob/master/examples/mnist_cnn.py). \n",
    "\n",
    "However, instead of using the [MNIST](http://yann.lecun.com/exdb/mnist/) dataset, you're going to use the [German Traffic Sign Recognition Benchmark](http://benchmark.ini.rub.de/?section=gtsrb&subsection=news) dataset that you've used previously.\n",
    "\n",
    "You can download pickle files with sanitized traffic sign data here."
   ]
  },
  {
   "cell_type": "markdown",
   "metadata": {},
   "source": [
    "## Overview\n",
    "\n",
    "Here are the steps you'll take to build the network:\n",
    "\n",
    "1. First load the data.\n",
    "2. Build a feedforward neural network to classify traffic signs.\n",
    "3. Build a convolutional neural network to classify traffic signs.\n",
    "\n",
    "Keep an eye on the network’s accuracy over time. Once the accuracy reaches the 98% range, you can be confident that you’ve built and trained an effective model."
   ]
  },
  {
   "cell_type": "markdown",
   "metadata": {},
   "source": [
    "## Load the Data\n",
    "\n",
    "Start by importing the data from the pickle file."
   ]
  },
  {
   "cell_type": "code",
   "execution_count": 1,
   "metadata": {
    "collapsed": true
   },
   "outputs": [],
   "source": [
    "# Import stuff\n",
    "import pickle\n",
    "import numpy as np"
   ]
  },
  {
   "cell_type": "code",
   "execution_count": 2,
   "metadata": {
    "collapsed": false
   },
   "outputs": [],
   "source": [
    "# TODO: Implement load the data here.\n",
    "\n",
    "training_file = 'train.p'\n",
    "testing_file = 'test.p'\n",
    "\n",
    "with open(training_file, mode='rb') as f:\n",
    "    train = pickle.load(f)\n",
    "with open(testing_file, mode='rb') as f:\n",
    "    test = pickle.load(f)\n",
    "    \n",
    "X_train = train['features']\n",
    "y_train = train['labels']\n",
    "\n",
    "X_test = test['features']\n",
    "y_test = test['labels']\n",
    "\n",
    "# STOP: Do not change the tests below. Your implementation should pass these tests. \n",
    "assert(X_train.shape[0] == y_train.shape[0]), \"The number of images is not equal to the number of labels.\"\n",
    "assert(X_train.shape[1:] == (32,32,3)), \"The dimensions of the images are not 32 x 32 x 3.\""
   ]
  },
  {
   "cell_type": "markdown",
   "metadata": {},
   "source": [
    "## Normalize the data\n",
    "\n",
    "Now that you've loaded the training data, normalize the input so that it has a mean of 0 and a range between -0.5 and 0.5."
   ]
  },
  {
   "cell_type": "code",
   "execution_count": 3,
   "metadata": {
    "collapsed": false
   },
   "outputs": [],
   "source": [
    "# TODO: Implement data normalization here.\n",
    "## Normalize: scale from 0 to 1\n",
    "def normalize(image_list):\n",
    "    normalized_train = {}\n",
    "    normalized_train['features'] = []\n",
    "    max_val = np.max(image_list)\n",
    "    min_val = np.min(image_list)\n",
    "    halfway = (max_val - min_val) / 2\n",
    "    for i in range(len(image_list)):\n",
    "        normalized_train['features'].append(((image_list[i]) - halfway) / (max_val - min_val))\n",
    "    return np.asarray(normalized_train['features'])\n",
    "\n",
    "n_X_train = normalize(X_train)\n",
    "X_train = n_X_train\n",
    "n_X_test = normalize(X_test)\n",
    "X_test = n_X_test\n",
    "\n",
    "\n",
    "\n",
    "# STOP: Do not change the tests below. Your implementation should pass these tests. \n",
    "assert(round(np.mean(X_train)) == 0), \"The mean of the input data is: %f\" % np.mean(X_train)\n",
    "assert(np.min(X_train) == -0.5 and np.max(X_train) == 0.5), \"The range of the input data is: %.1f to %.1f\" % (np.min(X_train), np.max(X_train))"
   ]
  },
  {
   "cell_type": "markdown",
   "metadata": {},
   "source": [
    "## Build a Two-Layer Feedfoward Network\n",
    "\n",
    "The code you've written so far is for data processing, not specific to Keras. Here you're going to build Keras-specific code.\n",
    "\n",
    "Build a two-layer feedforward neural network, with 128 neurons in the fully-connected hidden layer. \n",
    "\n",
    "To get started, review the Keras documentation about [models](https://keras.io/models/sequential/) and [layers](https://keras.io/layers/core/).\n",
    "\n",
    "The Keras example of a [Multi-Layer Perceptron](https://github.com/fchollet/keras/blob/master/examples/mnist_mlp.py) network is similar to what you need to do here. Use that as a guide, but keep in mind that there are a number of differences."
   ]
  },
  {
   "cell_type": "code",
   "execution_count": 4,
   "metadata": {
    "collapsed": false
   },
   "outputs": [
    {
     "name": "stderr",
     "output_type": "stream",
     "text": [
      "Using TensorFlow backend.\n"
     ]
    },
    {
     "name": "stdout",
     "output_type": "stream",
     "text": [
      "12630\n",
      "____________________________________________________________________________________________________\n",
      "Layer (type)                     Output Shape          Param #     Connected to                     \n",
      "====================================================================================================\n",
      "hidden1 (Dense)                  (None, 128)           393344      dense_input_1[0][0]              \n",
      "____________________________________________________________________________________________________\n",
      "activation_1 (Activation)        (None, 128)           0           hidden1[0][0]                    \n",
      "____________________________________________________________________________________________________\n",
      "dropout_1 (Dropout)              (None, 128)           0           activation_1[0][0]               \n",
      "____________________________________________________________________________________________________\n",
      "dense_1 (Dense)                  (None, 43)            5547        dropout_1[0][0]                  \n",
      "____________________________________________________________________________________________________\n",
      "output (Activation)              (None, 43)            0           dense_1[0][0]                    \n",
      "====================================================================================================\n",
      "Total params: 398891\n",
      "____________________________________________________________________________________________________\n"
     ]
    }
   ],
   "source": [
    "# TODO: Build a two-layer feedforward neural network with Keras here.\n",
    "\n",
    "# imports\n",
    "from keras.models import Sequential\n",
    "from keras.layers.core import Dense, Activation, Dropout\n",
    "from keras.optimizers import Adam\n",
    "from keras.utils import np_utils\n",
    "\n",
    "# Some info\n",
    "image_dim = X_train[0].shape\n",
    "input_dim = image_dim[0] * image_dim[1] * image_dim[2]\n",
    "nb_classes = len(set(y_train))\n",
    "\n",
    "# One-hot encode the labels\n",
    "oh_y_train = np_utils.to_categorical(y_train, nb_classes)\n",
    "oh_y_test = np_utils.to_categorical(y_test, nb_classes)\n",
    "\n",
    "# Reshape inputs\n",
    "len_X_train = len(X_train)\n",
    "len_X_test = len(X_test)\n",
    "print(len_X_test)\n",
    "\n",
    "# commenting out the reshape for the CNN\n",
    "# X_train = X_train.reshape(len_X_train, input_dim)\n",
    "# X_test = X_test.reshape(len_X_test, input_dim)\n",
    "\n",
    "\n",
    "# Some params\n",
    "batch_size = 128\n",
    "nb_epoch = 2\n",
    "\n",
    "# Layer params\n",
    "n_neurons_1 = 128\n",
    "dropout_1 = 1      # change this to implement dropout!\n",
    "\n",
    "# Actual NN itself in Keras\n",
    "model = Sequential()\n",
    "model.add(Dense(n_neurons_1, input_shape=(input_dim,), name=\"hidden1\"))\n",
    "model.add(Activation('relu'))\n",
    "model.add(Dropout(dropout_1))\n",
    "model.add(Dense(nb_classes))\n",
    "model.add(Activation('softmax', name=\"output\"))\n",
    "\n",
    "model.summary() #hey what does this do?\n",
    "\n",
    "\n",
    "# STOP: Do not change the tests below. Your implementation should pass these tests.\n",
    "# assert(model.get_layer(name=\"hidden1\").input_shape == (None, 32*32*3)), \"The input shape is: %s\" % model.get_layer(name=\"hidden1\").input_shape\n",
    "# assert(model.get_layer(name=\"output\").output_shape == (None, 43)), \"The output shape is: %s\" % model.get_layer(name=\"output\").output_shape \n",
    "\n",
    "assert(model.get_layer(name=\"hidden1\").input_shape == (None, 32*32*3)), \"The input shape is: {}\".format(model.get_layer(name=\"hidden1\").input_shape)\n",
    "assert(model.get_layer(name=\"output\").output_shape == (None, 43)), \"The output shape is: {}\".format(model.get_layer(name=\"output\").output_shape) "
   ]
  },
  {
   "cell_type": "markdown",
   "metadata": {},
   "source": [
    "## Train the Network\n",
    "Compile and train the network for 2 epochs. [Use the `adam` optimizer, with `categorical_crossentropy` loss.](https://keras.io/models/sequential/)\n",
    "\n",
    "Hint 1: In order to use categorical cross entropy, you will need to [one-hot encode the labels](https://github.com/fchollet/keras/blob/master/keras/utils/np_utils.py). [done]\n",
    "\n",
    "Hint 2: In order to pass the input images to the fully-connected hidden layer, you will need to [reshape the input](https://github.com/fchollet/keras/blob/master/examples/mnist_mlp.py).\n",
    "\n",
    "Hint 3: Keras's `.fit()` method returns a `History.history` object, which the tests below use. Save that to a variable named `history`. [done]"
   ]
  },
  {
   "cell_type": "code",
   "execution_count": 5,
   "metadata": {
    "collapsed": false
   },
   "outputs": [],
   "source": [
    "# TODO: Compile and train the model here.\n",
    "\n",
    "#model.compile(loss='categorical_crossentropy',\n",
    "#             optimizer=Adam(),\n",
    "#             metrics=['accuracy']) # where does 'accuracy' get defined?\n",
    "\n",
    "#history = model.fit(X_train, oh_y_train,\n",
    "#                   batch_size = batch_size,\n",
    "#                   nb_epoch=nb_epoch,\n",
    "#                   verbose=1,\n",
    "#                   validation_data=(X_test, oh_y_test))\n",
    "#score = model.evaluate(X_test, oh_y_test, verbose=0)\n",
    "#print('Test score:', score[0])\n",
    "#print('Test accuracy:', score[1])\n",
    "\n",
    "# STOP: Do not change the tests below. Your implementation should pass these tests.\n",
    "#assert(history.history['acc'][0] > 0.5), \"The training accuracy was: %.3f\" % history.history['acc']"
   ]
  },
  {
   "cell_type": "markdown",
   "metadata": {},
   "source": [
    "## Validate the Network\n",
    "Split the training data into a training and validation set.\n",
    "\n",
    "Measure the [validation accuracy](https://keras.io/models/sequential/) of the network after two training epochs.\n",
    "\n",
    "Hint: [Use the `train_test_split()` method](http://scikit-learn.org/stable/modules/generated/sklearn.model_selection.train_test_split.html) from scikit-learn."
   ]
  },
  {
   "cell_type": "code",
   "execution_count": 7,
   "metadata": {
    "collapsed": false
   },
   "outputs": [
    {
     "name": "stdout",
     "output_type": "stream",
     "text": [
      "Train on 29406 samples, validate on 9803 samples\n",
      "Epoch 1/2\n",
      "29406/29406 [==============================] - 51s - loss: 1.1668 - acc: 0.6983 - val_loss: 0.4670 - val_acc: 0.8695\n",
      "Epoch 2/2\n",
      "29406/29406 [==============================] - 49s - loss: 0.2916 - acc: 0.9286 - val_loss: 0.2376 - val_acc: 0.9411\n",
      "Test score: 0.610083789516\n",
      "Test accuracy: 0.844893111677\n"
     ]
    }
   ],
   "source": [
    "# TODO: Split some of the training data into a validation dataset.\n",
    "# TODO: Compile and train the model to measure validation accuracy.\n",
    "\n",
    "from sklearn.model_selection import train_test_split\n",
    "X_train, X_val, y_train, y_val = train_test_split(X_train, y_train, test_size = 0.25)\n",
    "\n",
    "oh_y_val = np_utils.to_categorical(y_val, nb_classes)\n",
    "oh_y_train = np_utils.to_categorical(y_train, nb_classes)\n",
    "\n",
    "model.compile(loss='categorical_crossentropy',\n",
    "             optimizer=Adam(),\n",
    "             metrics=['accuracy']) # where does 'accuracy' get defined?\n",
    "\n",
    "history = model.fit(X_train, oh_y_train,\n",
    "                   batch_size = batch_size,\n",
    "                   nb_epoch=nb_epoch,\n",
    "                   verbose=1,\n",
    "                   validation_data=(X_val, oh_y_val))\n",
    "score = model.evaluate(X_test, oh_y_test, verbose=0)\n",
    "print('Test score:', score[0])\n",
    "print('Test accuracy:', score[1])\n",
    "\n",
    "# STOP: Do not change the tests below. Your implementation should pass these tests.\n",
    "assert(round(X_train.shape[0] / float(X_val.shape[0])) == 3), \"The training set is %.3f times larger than the validation set.\" % X_train.shape[0] / float(X_val.shape[0])\n",
    "assert(history.history['val_acc'][0] > 0.6), \"The validation accuracy is: %.3f\" % history.history['val_acc'][0]"
   ]
  },
  {
   "cell_type": "markdown",
   "metadata": {},
   "source": [
    "**Validation Accuracy**: 0.8255"
   ]
  },
  {
   "cell_type": "markdown",
   "metadata": {},
   "source": [
    "## Congratulations\n",
    "You've built a feedforward neural network in Keras!\n",
    "\n",
    "Don't stop here! Next, you'll add a convolutional layer to drive.py."
   ]
  },
  {
   "cell_type": "markdown",
   "metadata": {},
   "source": [
    "## Convolutions\n",
    "Build a new network, similar to your existing network. Before the hidden layer, add a 3x3 [convolutional layer](https://keras.io/layers/convolutional/#convolution2d) with 32 filters and valid padding.\n",
    "\n",
    "Then compile and train the network.\n",
    "\n",
    "Hint 1: The Keras example of a [convolutional neural network](https://github.com/fchollet/keras/blob/master/examples/mnist_cnn.py) for MNIST would be a good example to review.\n",
    "\n",
    "Hint 2: Now that the first layer of the network is a convolutional layer, you no longer need to reshape the input images before passing them to the network. You might need to reload your training data to recover the original shape.\n",
    "\n",
    "Hint 3: Add a [`Flatten()` layer](https://keras.io/layers/core/#flatten) between the convolutional layer and the fully-connected hidden layer."
   ]
  },
  {
   "cell_type": "code",
   "execution_count": 10,
   "metadata": {
    "collapsed": false
   },
   "outputs": [
    {
     "name": "stdout",
     "output_type": "stream",
     "text": [
      "____________________________________________________________________________________________________\n",
      "Layer (type)                     Output Shape          Param #     Connected to                     \n",
      "====================================================================================================\n",
      "convolution2d_3 (Convolution2D)  (None, 30, 30, 32)    896         convolution2d_input_3[0][0]      \n",
      "____________________________________________________________________________________________________\n",
      "activation_6 (Activation)        (None, 30, 30, 32)    0           convolution2d_3[0][0]            \n",
      "____________________________________________________________________________________________________\n",
      "flatten_3 (Flatten)              (None, 28800)         0           activation_6[0][0]               \n",
      "____________________________________________________________________________________________________\n",
      "hidden1 (Dense)                  (None, 128)           3686528     flatten_3[0][0]                  \n",
      "____________________________________________________________________________________________________\n",
      "activation_7 (Activation)        (None, 128)           0           hidden1[0][0]                    \n",
      "____________________________________________________________________________________________________\n",
      "dropout_4 (Dropout)              (None, 128)           0           activation_7[0][0]               \n",
      "____________________________________________________________________________________________________\n",
      "dense_4 (Dense)                  (None, 43)            5547        dropout_4[0][0]                  \n",
      "____________________________________________________________________________________________________\n",
      "output (Activation)              (None, 43)            0           dense_4[0][0]                    \n",
      "====================================================================================================\n",
      "Total params: 3692971\n",
      "____________________________________________________________________________________________________\n",
      "Train on 29406 samples, validate on 9803 samples\n",
      "Epoch 1/2\n",
      "29406/29406 [==============================] - 52s - loss: 1.3345 - acc: 0.6609 - val_loss: 0.4655 - val_acc: 0.8870\n",
      "Epoch 2/2\n",
      "29406/29406 [==============================] - 50s - loss: 0.3241 - acc: 0.9220 - val_loss: 0.2747 - val_acc: 0.9248\n",
      "Test score: 0.592451964478\n",
      "Test accuracy: 0.846951702277\n"
     ]
    },
    {
     "ename": "AssertionError",
     "evalue": "The validation accuracy is: 0.887",
     "output_type": "error",
     "traceback": [
      "\u001b[0;31m---------------------------------------------------------------------------\u001b[0m",
      "\u001b[0;31mAssertionError\u001b[0m                            Traceback (most recent call last)",
      "\u001b[0;32m<ipython-input-10-283d1130d7e6>\u001b[0m in \u001b[0;36m<module>\u001b[0;34m()\u001b[0m\n\u001b[1;32m     45\u001b[0m \u001b[0;34m\u001b[0m\u001b[0m\n\u001b[1;32m     46\u001b[0m \u001b[0;31m# STOP: Do not change the tests below. Your implementation should pass these tests.\u001b[0m\u001b[0;34m\u001b[0m\u001b[0;34m\u001b[0m\u001b[0m\n\u001b[0;32m---> 47\u001b[0;31m \u001b[0;32massert\u001b[0m\u001b[0;34m(\u001b[0m\u001b[0mhistory\u001b[0m\u001b[0;34m.\u001b[0m\u001b[0mhistory\u001b[0m\u001b[0;34m[\u001b[0m\u001b[0;34m'val_acc'\u001b[0m\u001b[0;34m]\u001b[0m\u001b[0;34m[\u001b[0m\u001b[0;36m0\u001b[0m\u001b[0;34m]\u001b[0m \u001b[0;34m>\u001b[0m \u001b[0;36m0.9\u001b[0m\u001b[0;34m)\u001b[0m\u001b[0;34m,\u001b[0m \u001b[0;34m\"The validation accuracy is: %.3f\"\u001b[0m \u001b[0;34m%\u001b[0m \u001b[0mhistory\u001b[0m\u001b[0;34m.\u001b[0m\u001b[0mhistory\u001b[0m\u001b[0;34m[\u001b[0m\u001b[0;34m'val_acc'\u001b[0m\u001b[0;34m]\u001b[0m\u001b[0;34m[\u001b[0m\u001b[0;36m0\u001b[0m\u001b[0;34m]\u001b[0m\u001b[0;34m\u001b[0m\u001b[0m\n\u001b[0m",
      "\u001b[0;31mAssertionError\u001b[0m: The validation accuracy is: 0.887"
     ]
    }
   ],
   "source": [
    "# TODO: Re-construct the network and add a convolutional layer before the first fully-connected layer.\n",
    "# TODO: Compile and train the model.\n",
    "\n",
    "from keras.layers import Dense, Dropout, Activation, Flatten\n",
    "from keras.layers import Convolution2D\n",
    "\n",
    "# some info\n",
    "img_rows = image_dim[0]\n",
    "img_cols = image_dim[1]\n",
    "input_shape = image_dim\n",
    "\n",
    "# some params\n",
    "\n",
    "# conv kernel size\n",
    "kernel_size = (3, 3)\n",
    "nb_filters = 32\n",
    "\n",
    "model = Sequential()\n",
    "model.add(Convolution2D(nb_filters, kernel_size[0], kernel_size[1],\n",
    "                        border_mode='valid',\n",
    "                        input_shape=input_shape))\n",
    "model.add(Activation('relu'))\n",
    "model.add(Flatten())\n",
    "model.add(Dense(n_neurons_1, input_shape=(input_dim,), name=\"hidden1\"))\n",
    "model.add(Activation('relu'))\n",
    "model.add(Dropout(dropout_1))\n",
    "model.add(Dense(nb_classes))\n",
    "model.add(Activation('softmax', name=\"output\"))\n",
    "\n",
    "model.summary() #hey what does this do?\n",
    "\n",
    "model.compile(loss='categorical_crossentropy',\n",
    "             optimizer=Adam(),\n",
    "             metrics=['accuracy']) # where does 'accuracy' get defined?\n",
    "\n",
    "history = model.fit(X_train, oh_y_train,\n",
    "                   batch_size = batch_size,\n",
    "                   nb_epoch=nb_epoch,\n",
    "                   verbose=1,\n",
    "                   validation_data=(X_val, oh_y_val))\n",
    "score = model.evaluate(X_test, oh_y_test, verbose=0)\n",
    "print('Test score:', score[0])\n",
    "print('Test accuracy:', score[1])\n",
    "\n",
    "\n",
    "# STOP: Do not change the tests below. Your implementation should pass these tests.\n",
    "assert(history.history['val_acc'][0] > 0.9), \"The validation accuracy is: %.3f\" % history.history['val_acc'][0]"
   ]
  },
  {
   "cell_type": "markdown",
   "metadata": {},
   "source": [
    "**Validation Accuracy**: 0.9248"
   ]
  },
  {
   "cell_type": "markdown",
   "metadata": {},
   "source": [
    "## Pooling\n",
    "Re-construct your network and add a 2x2 [pooling layer](https://keras.io/layers/pooling/#maxpooling2d) immediately following your convolutional layer.\n",
    "\n",
    "Then compile and train the network."
   ]
  },
  {
   "cell_type": "code",
   "execution_count": 11,
   "metadata": {
    "collapsed": false
   },
   "outputs": [
    {
     "name": "stdout",
     "output_type": "stream",
     "text": [
      "____________________________________________________________________________________________________\n",
      "Layer (type)                     Output Shape          Param #     Connected to                     \n",
      "====================================================================================================\n",
      "convolution2d_4 (Convolution2D)  (None, 30, 30, 32)    896         convolution2d_input_4[0][0]      \n",
      "____________________________________________________________________________________________________\n",
      "activation_8 (Activation)        (None, 30, 30, 32)    0           convolution2d_4[0][0]            \n",
      "____________________________________________________________________________________________________\n",
      "maxpooling2d_1 (MaxPooling2D)    (None, 15, 15, 32)    0           activation_8[0][0]               \n",
      "____________________________________________________________________________________________________\n",
      "flatten_4 (Flatten)              (None, 7200)          0           maxpooling2d_1[0][0]             \n",
      "____________________________________________________________________________________________________\n",
      "hidden1 (Dense)                  (None, 128)           921728      flatten_4[0][0]                  \n",
      "____________________________________________________________________________________________________\n",
      "activation_9 (Activation)        (None, 128)           0           hidden1[0][0]                    \n",
      "____________________________________________________________________________________________________\n",
      "dropout_5 (Dropout)              (None, 128)           0           activation_9[0][0]               \n",
      "____________________________________________________________________________________________________\n",
      "dense_5 (Dense)                  (None, 43)            5547        dropout_5[0][0]                  \n",
      "____________________________________________________________________________________________________\n",
      "output (Activation)              (None, 43)            0           dense_5[0][0]                    \n",
      "====================================================================================================\n",
      "Total params: 928171\n",
      "____________________________________________________________________________________________________\n",
      "Train on 29406 samples, validate on 9803 samples\n",
      "Epoch 1/2\n",
      "29406/29406 [==============================] - 36s - loss: 1.6624 - acc: 0.5685 - val_loss: 0.7340 - val_acc: 0.8014\n",
      "Epoch 2/2\n",
      "29406/29406 [==============================] - 33s - loss: 0.4943 - acc: 0.8750 - val_loss: 0.3702 - val_acc: 0.9054\n",
      "Test score: 0.661683352656\n",
      "Test accuracy: 0.813935075255\n"
     ]
    },
    {
     "ename": "AssertionError",
     "evalue": "The validation accuracy is: 0.801",
     "output_type": "error",
     "traceback": [
      "\u001b[0;31m---------------------------------------------------------------------------\u001b[0m",
      "\u001b[0;31mAssertionError\u001b[0m                            Traceback (most recent call last)",
      "\u001b[0;32m<ipython-input-11-a7e286b345e1>\u001b[0m in \u001b[0;36m<module>\u001b[0;34m()\u001b[0m\n\u001b[1;32m     42\u001b[0m \u001b[0;34m\u001b[0m\u001b[0m\n\u001b[1;32m     43\u001b[0m \u001b[0;31m# STOP: Do not change the tests below. Your implementation should pass these tests.\u001b[0m\u001b[0;34m\u001b[0m\u001b[0;34m\u001b[0m\u001b[0m\n\u001b[0;32m---> 44\u001b[0;31m \u001b[0;32massert\u001b[0m\u001b[0;34m(\u001b[0m\u001b[0mhistory\u001b[0m\u001b[0;34m.\u001b[0m\u001b[0mhistory\u001b[0m\u001b[0;34m[\u001b[0m\u001b[0;34m'val_acc'\u001b[0m\u001b[0;34m]\u001b[0m\u001b[0;34m[\u001b[0m\u001b[0;36m0\u001b[0m\u001b[0;34m]\u001b[0m \u001b[0;34m>\u001b[0m \u001b[0;36m0.9\u001b[0m\u001b[0;34m)\u001b[0m\u001b[0;34m,\u001b[0m \u001b[0;34m\"The validation accuracy is: %.3f\"\u001b[0m \u001b[0;34m%\u001b[0m \u001b[0mhistory\u001b[0m\u001b[0;34m.\u001b[0m\u001b[0mhistory\u001b[0m\u001b[0;34m[\u001b[0m\u001b[0;34m'val_acc'\u001b[0m\u001b[0;34m]\u001b[0m\u001b[0;34m[\u001b[0m\u001b[0;36m0\u001b[0m\u001b[0;34m]\u001b[0m\u001b[0;34m\u001b[0m\u001b[0m\n\u001b[0m\u001b[1;32m     45\u001b[0m \u001b[0;34m\u001b[0m\u001b[0m\n\u001b[1;32m     46\u001b[0m \u001b[0;31m# STOP: Do not change the tests below. Your implementation should pass these tests.\u001b[0m\u001b[0;34m\u001b[0m\u001b[0;34m\u001b[0m\u001b[0m\n",
      "\u001b[0;31mAssertionError\u001b[0m: The validation accuracy is: 0.801"
     ]
    }
   ],
   "source": [
    "# TODO: Re-construct the network and add a pooling layer after the convolutional layer.\n",
    "# TODO: Compile and train the model.\n",
    "\n",
    "from keras.layers import MaxPooling2D\n",
    "\n",
    "# some params\n",
    "\n",
    "# conv kernel size\n",
    "kernel_size = (3, 3)\n",
    "nb_filters = 32\n",
    "\n",
    "pool_size = (2, 2)\n",
    "\n",
    "model = Sequential()\n",
    "model.add(Convolution2D(nb_filters, kernel_size[0], kernel_size[1],\n",
    "                        border_mode='valid',\n",
    "                        input_shape=input_shape))\n",
    "model.add(Activation('relu'))\n",
    "model.add(MaxPooling2D(pool_size=pool_size))\n",
    "model.add(Flatten())\n",
    "model.add(Dense(n_neurons_1, input_shape=(input_dim,), name=\"hidden1\"))\n",
    "model.add(Activation('relu'))\n",
    "model.add(Dropout(dropout_1))\n",
    "model.add(Dense(nb_classes))\n",
    "model.add(Activation('softmax', name=\"output\"))\n",
    "\n",
    "model.summary() #hey what does this do?\n",
    "\n",
    "model.compile(loss='categorical_crossentropy',\n",
    "             optimizer=Adam(),\n",
    "             metrics=['accuracy']) # where does 'accuracy' get defined?\n",
    "\n",
    "history = model.fit(X_train, oh_y_train,\n",
    "                   batch_size = batch_size,\n",
    "                   nb_epoch=nb_epoch,\n",
    "                   verbose=1,\n",
    "                   validation_data=(X_val, oh_y_val))\n",
    "score = model.evaluate(X_test, oh_y_test, verbose=0)\n",
    "print('Test score:', score[0])\n",
    "print('Test accuracy:', score[1])\n",
    "\n",
    "\n",
    "# STOP: Do not change the tests below. Your implementation should pass these tests.\n",
    "assert(history.history['val_acc'][0] > 0.9), \"The validation accuracy is: %.3f\" % history.history['val_acc'][0]\n",
    "\n",
    "# STOP: Do not change the tests below. Your implementation should pass these tests.\n",
    "assert(history.history['val_acc'][0] > 0.9), \"The validation accuracy is: %.3f\" % history.history['val_acc'][0]"
   ]
  },
  {
   "cell_type": "markdown",
   "metadata": {},
   "source": [
    "**Validation Accuracy**: 0.9054"
   ]
  },
  {
   "cell_type": "markdown",
   "metadata": {},
   "source": [
    "## Dropout\n",
    "Re-construct your network and add [dropout](https://keras.io/layers/core/#dropout) after the pooling layer. Set the dropout rate to 50%."
   ]
  },
  {
   "cell_type": "code",
   "execution_count": 14,
   "metadata": {
    "collapsed": false
   },
   "outputs": [
    {
     "name": "stdout",
     "output_type": "stream",
     "text": [
      "____________________________________________________________________________________________________\n",
      "Layer (type)                     Output Shape          Param #     Connected to                     \n",
      "====================================================================================================\n",
      "convolution2d_7 (Convolution2D)  (None, 30, 30, 32)    896         convolution2d_input_7[0][0]      \n",
      "____________________________________________________________________________________________________\n",
      "activation_14 (Activation)       (None, 30, 30, 32)    0           convolution2d_7[0][0]            \n",
      "____________________________________________________________________________________________________\n",
      "maxpooling2d_4 (MaxPooling2D)    (None, 15, 15, 32)    0           activation_14[0][0]              \n",
      "____________________________________________________________________________________________________\n",
      "dropout_10 (Dropout)             (None, 15, 15, 32)    0           maxpooling2d_4[0][0]             \n",
      "____________________________________________________________________________________________________\n",
      "flatten_7 (Flatten)              (None, 7200)          0           dropout_10[0][0]                 \n",
      "____________________________________________________________________________________________________\n",
      "hidden1 (Dense)                  (None, 128)           921728      flatten_7[0][0]                  \n",
      "____________________________________________________________________________________________________\n",
      "activation_15 (Activation)       (None, 128)           0           hidden1[0][0]                    \n",
      "____________________________________________________________________________________________________\n",
      "dropout_11 (Dropout)             (None, 128)           0           activation_15[0][0]              \n",
      "____________________________________________________________________________________________________\n",
      "dense_8 (Dense)                  (None, 43)            5547        dropout_11[0][0]                 \n",
      "____________________________________________________________________________________________________\n",
      "output (Activation)              (None, 43)            0           dense_8[0][0]                    \n",
      "====================================================================================================\n",
      "Total params: 928171\n",
      "____________________________________________________________________________________________________\n",
      "Train on 29406 samples, validate on 9803 samples\n",
      "Epoch 1/10\n",
      "29406/29406 [==============================] - 36s - loss: 1.6742 - acc: 0.5569 - val_loss: 0.7494 - val_acc: 0.7981\n",
      "Epoch 2/10\n",
      "29406/29406 [==============================] - 36s - loss: 0.5642 - acc: 0.8514 - val_loss: 0.3672 - val_acc: 0.9203\n",
      "Epoch 3/10\n",
      "29406/29406 [==============================] - 36s - loss: 0.3350 - acc: 0.9151 - val_loss: 0.2496 - val_acc: 0.9392\n",
      "Epoch 4/10\n",
      "29406/29406 [==============================] - 37s - loss: 0.2406 - acc: 0.9383 - val_loss: 0.1947 - val_acc: 0.9553\n",
      "Epoch 5/10\n",
      "29406/29406 [==============================] - 36s - loss: 0.2009 - acc: 0.9474 - val_loss: 0.1648 - val_acc: 0.9628\n",
      "Epoch 6/10\n",
      "29406/29406 [==============================] - 36s - loss: 0.1657 - acc: 0.9572 - val_loss: 0.1400 - val_acc: 0.9706\n",
      "Epoch 7/10\n",
      "29406/29406 [==============================] - 36s - loss: 0.1433 - acc: 0.9626 - val_loss: 0.1287 - val_acc: 0.9715\n",
      "Epoch 8/10\n",
      "29406/29406 [==============================] - 37s - loss: 0.1261 - acc: 0.9659 - val_loss: 0.1333 - val_acc: 0.9684\n",
      "Epoch 9/10\n",
      "29406/29406 [==============================] - 39s - loss: 0.1182 - acc: 0.9676 - val_loss: 0.1125 - val_acc: 0.9748\n",
      "Epoch 10/10\n",
      "29406/29406 [==============================] - 35s - loss: 0.1026 - acc: 0.9718 - val_loss: 0.1037 - val_acc: 0.9788\n",
      "Test score: 0.479710211397\n",
      "Test accuracy: 0.90174188444\n"
     ]
    },
    {
     "ename": "AssertionError",
     "evalue": "The validation accuracy is: 0.798",
     "output_type": "error",
     "traceback": [
      "\u001b[0;31m---------------------------------------------------------------------------\u001b[0m",
      "\u001b[0;31mAssertionError\u001b[0m                            Traceback (most recent call last)",
      "\u001b[0;32m<ipython-input-14-77b5bce2366e>\u001b[0m in \u001b[0;36m<module>\u001b[0;34m()\u001b[0m\n\u001b[1;32m     43\u001b[0m \u001b[0;34m\u001b[0m\u001b[0m\n\u001b[1;32m     44\u001b[0m \u001b[0;31m# STOP: Do not change the tests below. Your implementation should pass these tests.\u001b[0m\u001b[0;34m\u001b[0m\u001b[0;34m\u001b[0m\u001b[0m\n\u001b[0;32m---> 45\u001b[0;31m \u001b[0;32massert\u001b[0m\u001b[0;34m(\u001b[0m\u001b[0mhistory\u001b[0m\u001b[0;34m.\u001b[0m\u001b[0mhistory\u001b[0m\u001b[0;34m[\u001b[0m\u001b[0;34m'val_acc'\u001b[0m\u001b[0;34m]\u001b[0m\u001b[0;34m[\u001b[0m\u001b[0;36m0\u001b[0m\u001b[0;34m]\u001b[0m \u001b[0;34m>\u001b[0m \u001b[0;36m0.9\u001b[0m\u001b[0;34m)\u001b[0m\u001b[0;34m,\u001b[0m \u001b[0;34m\"The validation accuracy is: %.3f\"\u001b[0m \u001b[0;34m%\u001b[0m \u001b[0mhistory\u001b[0m\u001b[0;34m.\u001b[0m\u001b[0mhistory\u001b[0m\u001b[0;34m[\u001b[0m\u001b[0;34m'val_acc'\u001b[0m\u001b[0;34m]\u001b[0m\u001b[0;34m[\u001b[0m\u001b[0;36m0\u001b[0m\u001b[0;34m]\u001b[0m\u001b[0;34m\u001b[0m\u001b[0m\n\u001b[0m",
      "\u001b[0;31mAssertionError\u001b[0m: The validation accuracy is: 0.798"
     ]
    }
   ],
   "source": [
    "# TODO: Re-construct the network and add dropout after the pooling layer.\n",
    "# TODO: Compile and train the model.\n",
    "\n",
    "# some params\n",
    "nb_epoch = 10\n",
    "\n",
    "# conv kernel size\n",
    "kernel_size = (3, 3)\n",
    "nb_filters = 32\n",
    "\n",
    "pool_size = (2, 2)\n",
    "p_dropout=0.5\n",
    "\n",
    "\n",
    "model = Sequential()\n",
    "model.add(Convolution2D(nb_filters, kernel_size[0], kernel_size[1],\n",
    "                        border_mode='valid',\n",
    "                        input_shape=input_shape))\n",
    "model.add(Activation('relu'))\n",
    "model.add(MaxPooling2D(pool_size=pool_size))\n",
    "model.add(Dropout(p_dropout))\n",
    "model.add(Flatten())\n",
    "model.add(Dense(n_neurons_1, input_shape=(input_dim,), name=\"hidden1\"))\n",
    "model.add(Activation('relu'))\n",
    "model.add(Dropout(dropout_1))\n",
    "model.add(Dense(nb_classes))\n",
    "model.add(Activation('softmax', name=\"output\"))\n",
    "\n",
    "model.summary() #hey what does this do?\n",
    "\n",
    "model.compile(loss='categorical_crossentropy',\n",
    "             optimizer=Adam(),\n",
    "             metrics=['accuracy']) # where does 'accuracy' get defined?\n",
    "\n",
    "history = model.fit(X_train, oh_y_train,\n",
    "                   batch_size = batch_size,\n",
    "                   nb_epoch=nb_epoch,\n",
    "                   verbose=1,\n",
    "                   validation_data=(X_val, oh_y_val))\n",
    "score = model.evaluate(X_test, oh_y_test, verbose=0)\n",
    "print('Test score:', score[0])\n",
    "print('Test accuracy:', score[1])\n",
    "\n",
    "# STOP: Do not change the tests below. Your implementation should pass these tests.\n",
    "assert(history.history['val_acc'][0] > 0.9), \"The validation accuracy is: %.3f\" % history.history['val_acc'][0]"
   ]
  },
  {
   "cell_type": "code",
   "execution_count": null,
   "metadata": {
    "collapsed": true
   },
   "outputs": [],
   "source": [
    "**Validation Accuracy**: 0.9163"
   ]
  },
  {
   "cell_type": "markdown",
   "metadata": {},
   "source": [
    "## Optimization\n",
    "Congratulations! You've built a neural network with convolutions, pooling, dropout, and fully-connected layers, all in just a few lines of code.\n",
    "\n",
    "Have fun with the model and see how well you can do! Add more layers, or regularization, or different padding, or batches, or more training epochs.\n",
    "\n",
    "What is the best validation accuracy you can achieve?"
   ]
  },
  {
   "cell_type": "code",
   "execution_count": null,
   "metadata": {
    "collapsed": true
   },
   "outputs": [],
   "source": []
  },
  {
   "cell_type": "markdown",
   "metadata": {},
   "source": [
    "**Best Validation Accuracy:** 97.88% with 10 epochs"
   ]
  },
  {
   "cell_type": "markdown",
   "metadata": {},
   "source": [
    "## Testing\n",
    "Once you've picked out your best model, it's time to test it.\n",
    "\n",
    "Load up the test data and use the [`evaluate()` method](https://keras.io/models/model/#evaluate) to see how well it does.\n",
    "\n",
    "Hint 1: After you load your test data, don't forget to normalize the input and one-hot encode the output, so it matches the training data. [wait this is already done for us]\n",
    "\n",
    "Hint 2: The `evaluate()` method should return an array of numbers. Use the `metrics_names()` method to get the labels."
   ]
  },
  {
   "cell_type": "code",
   "execution_count": 19,
   "metadata": {
    "collapsed": false
   },
   "outputs": [
    {
     "name": "stdout",
     "output_type": "stream",
     "text": [
      "12630/12630 [==============================] - 7s     \n",
      "[0.47971021296221966, 0.90174188443997128]\n",
      "['loss', 'acc']\n"
     ]
    }
   ],
   "source": [
    "with open('./test.p', mode='rb') as f:\n",
    "    test = pickle.load(f)\n",
    "    \n",
    "X_test = test['features']\n",
    "y_test = test['labels']\n",
    "X_test = X_test.astype('float32')\n",
    "X_test /= 255\n",
    "X_test -= 0.5\n",
    "Y_test = np_utils.to_categorical(y_test, 43)\n",
    "\n",
    "output = model.evaluate(X_test, Y_test)\n",
    "print(output)\n",
    "print(model.metrics_names)"
   ]
  },
  {
   "cell_type": "markdown",
   "metadata": {},
   "source": [
    "**Test Accuracy:** 90.7%"
   ]
  },
  {
   "cell_type": "markdown",
   "metadata": {},
   "source": [
    "## Summary\n",
    "Keras is a great tool to use if you want to quickly build a neural network and evaluate performance."
   ]
  }
 ],
 "metadata": {
  "anaconda-cloud": {},
  "kernelspec": {
   "display_name": "Python 3",
   "language": "python",
   "name": "python3"
  },
  "language_info": {
   "codemirror_mode": {
    "name": "ipython",
    "version": 3
   },
   "file_extension": ".py",
   "mimetype": "text/x-python",
   "name": "python",
   "nbconvert_exporter": "python",
   "pygments_lexer": "ipython3",
   "version": "3.5.2"
  }
 },
 "nbformat": 4,
 "nbformat_minor": 0
}
